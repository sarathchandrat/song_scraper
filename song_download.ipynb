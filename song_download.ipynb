{
 "cells": [
  {
   "cell_type": "markdown",
   "metadata": {},
   "source": [
    "#### song downloader file"
   ]
  },
  {
   "cell_type": "code",
   "execution_count": 2,
   "metadata": {},
   "outputs": [],
   "source": [
    "import requests\n",
    "from bs4 import BeautifulSoup\n",
    "import os\n",
    "\n",
    "import pandas as pd\n",
    "import re"
   ]
  },
  {
   "cell_type": "code",
   "execution_count": 4,
   "metadata": {},
   "outputs": [
    {
     "data": {
      "text/html": [
       "<div>\n",
       "<style scoped>\n",
       "    .dataframe tbody tr th:only-of-type {\n",
       "        vertical-align: middle;\n",
       "    }\n",
       "\n",
       "    .dataframe tbody tr th {\n",
       "        vertical-align: top;\n",
       "    }\n",
       "\n",
       "    .dataframe thead th {\n",
       "        text-align: right;\n",
       "    }\n",
       "</style>\n",
       "<table border=\"1\" class=\"dataframe\">\n",
       "  <thead>\n",
       "    <tr style=\"text-align: right;\">\n",
       "      <th></th>\n",
       "      <th>movies_urls</th>\n",
       "    </tr>\n",
       "  </thead>\n",
       "  <tbody>\n",
       "    <tr>\n",
       "      <th>0</th>\n",
       "      <td>&lt;a href=\"https://sensongsmp3.tv/pushpa-songs-f...</td>\n",
       "    </tr>\n",
       "    <tr>\n",
       "      <th>1</th>\n",
       "      <td>&lt;a href=\"https://sensongsmp3.tv/ala-vaikuntapu...</td>\n",
       "    </tr>\n",
       "    <tr>\n",
       "      <th>2</th>\n",
       "      <td>&lt;a href=\"https://sensongsmp3.tv/allu-arjun/\" t...</td>\n",
       "    </tr>\n",
       "    <tr>\n",
       "      <th>3</th>\n",
       "      <td>&lt;a href=\"https://sensongsmp3.tv/naa-peru-surya...</td>\n",
       "    </tr>\n",
       "    <tr>\n",
       "      <th>4</th>\n",
       "      <td>&lt;a href=\"https://sensongsmp3.tv/en-peyar-surya...</td>\n",
       "    </tr>\n",
       "  </tbody>\n",
       "</table>\n",
       "</div>"
      ],
      "text/plain": [
       "                                         movies_urls\n",
       "0  <a href=\"https://sensongsmp3.tv/pushpa-songs-f...\n",
       "1  <a href=\"https://sensongsmp3.tv/ala-vaikuntapu...\n",
       "2  <a href=\"https://sensongsmp3.tv/allu-arjun/\" t...\n",
       "3  <a href=\"https://sensongsmp3.tv/naa-peru-surya...\n",
       "4  <a href=\"https://sensongsmp3.tv/en-peyar-surya..."
      ]
     },
     "execution_count": 4,
     "metadata": {},
     "output_type": "execute_result"
    }
   ],
   "source": [
    "movies_df = pd.read_csv('movies_list_allu_arjun.txt',names = ['movies_urls'])\n",
    "movies_df.head()"
   ]
  },
  {
   "cell_type": "markdown",
   "metadata": {},
   "source": [
    "### Data preprocessing\n",
    "----"
   ]
  },
  {
   "cell_type": "code",
   "execution_count": 149,
   "metadata": {},
   "outputs": [],
   "source": [
    "def title_separate(x):\n",
    "    '''method to separate the title name from raw text'''\n",
    "    try:\n",
    "        regex = r\"\\btitle(.*)\\\"\"\n",
    "        result = re.findall(regex,x)\n",
    "        return result[0].lstrip('=\"')\n",
    "    except Exception as e:\n",
    "        return None"
   ]
  },
  {
   "cell_type": "markdown",
   "metadata": {},
   "source": []
  },
  {
   "cell_type": "code",
   "execution_count": 150,
   "metadata": {},
   "outputs": [],
   "source": [
    "def url_separate(x):\n",
    "    '''method to separate movie url from raw text '''\n",
    "    try:\n",
    "        regex = r\"(?i)\\b((?:https?://|www\\d{0,3}[.]|[a-z0-9.\\-]+[.][a-z]{2,4}/)(?:[^\\s()<>]+|\\(([^\\s()<>]+|(\\([^\\s()<>]+\\)))*\\))+(?:\\(([^\\s()<>]+|(\\([^\\s()<>]+\\)))*\\)|[^\\s`!()\\[\\]{};:'\\\".,<>?«»“”‘’]))\"\n",
    "        result = re.findall(regex,x)\n",
    "        return result[0][0]\n",
    "    except Exception as e:\n",
    "        return None"
   ]
  },
  {
   "cell_type": "code",
   "execution_count": 151,
   "metadata": {},
   "outputs": [
    {
     "data": {
      "text/html": [
       "<div>\n",
       "<style scoped>\n",
       "    .dataframe tbody tr th:only-of-type {\n",
       "        vertical-align: middle;\n",
       "    }\n",
       "\n",
       "    .dataframe tbody tr th {\n",
       "        vertical-align: top;\n",
       "    }\n",
       "\n",
       "    .dataframe thead th {\n",
       "        text-align: right;\n",
       "    }\n",
       "</style>\n",
       "<table border=\"1\" class=\"dataframe\">\n",
       "  <thead>\n",
       "    <tr style=\"text-align: right;\">\n",
       "      <th></th>\n",
       "      <th>movies_urls</th>\n",
       "      <th>url_links</th>\n",
       "      <th>movie_name</th>\n",
       "    </tr>\n",
       "  </thead>\n",
       "  <tbody>\n",
       "    <tr>\n",
       "      <th>0</th>\n",
       "      <td>&lt;a href=\"https://sensongsmp3.tv/telugump3s19/\"...</td>\n",
       "      <td>https://sensongsmp3.tv/telugump3s19/</td>\n",
       "      <td>None</td>\n",
       "    </tr>\n",
       "    <tr>\n",
       "      <th>1</th>\n",
       "      <td>&lt;a href=\"https://sensongsmp3.tv/bheemla-nayak-...</td>\n",
       "      <td>https://sensongsmp3.tv/bheemla-nayak-2022-song...</td>\n",
       "      <td>Bheemla Nayak (2022)</td>\n",
       "    </tr>\n",
       "    <tr>\n",
       "      <th>2</th>\n",
       "      <td>&lt;a href=\"https://sensongsmp3.tv/vakeel-saab-so...</td>\n",
       "      <td>https://sensongsmp3.tv/vakeel-saab-songs-downl...</td>\n",
       "      <td>Vakeel Saab (2021)</td>\n",
       "    </tr>\n",
       "    <tr>\n",
       "      <th>3</th>\n",
       "      <td>&lt;a href=\"https://sensongsmp3.tv/hari-hara-veer...</td>\n",
       "      <td>https://sensongsmp3.tv/hari-hara-veera-mallu-2...</td>\n",
       "      <td>Hari Hara Veera Mallu (2022)</td>\n",
       "    </tr>\n",
       "    <tr>\n",
       "      <th>4</th>\n",
       "      <td>&lt;a href=\"https://sensongsmp3.tv/pada-pada-song...</td>\n",
       "      <td>https://sensongsmp3.tv/pada-pada-song/</td>\n",
       "      <td>Pada Pada Song</td>\n",
       "    </tr>\n",
       "  </tbody>\n",
       "</table>\n",
       "</div>"
      ],
      "text/plain": [
       "                                         movies_urls  \\\n",
       "0  <a href=\"https://sensongsmp3.tv/telugump3s19/\"...   \n",
       "1  <a href=\"https://sensongsmp3.tv/bheemla-nayak-...   \n",
       "2  <a href=\"https://sensongsmp3.tv/vakeel-saab-so...   \n",
       "3  <a href=\"https://sensongsmp3.tv/hari-hara-veer...   \n",
       "4  <a href=\"https://sensongsmp3.tv/pada-pada-song...   \n",
       "\n",
       "                                           url_links  \\\n",
       "0               https://sensongsmp3.tv/telugump3s19/   \n",
       "1  https://sensongsmp3.tv/bheemla-nayak-2022-song...   \n",
       "2  https://sensongsmp3.tv/vakeel-saab-songs-downl...   \n",
       "3  https://sensongsmp3.tv/hari-hara-veera-mallu-2...   \n",
       "4             https://sensongsmp3.tv/pada-pada-song/   \n",
       "\n",
       "                     movie_name  \n",
       "0                          None  \n",
       "1          Bheemla Nayak (2022)  \n",
       "2            Vakeel Saab (2021)  \n",
       "3  Hari Hara Veera Mallu (2022)  \n",
       "4                Pada Pada Song  "
      ]
     },
     "execution_count": 151,
     "metadata": {},
     "output_type": "execute_result"
    }
   ],
   "source": [
    "#url separation\n",
    "movies_df['url_links'] = movies_df['movies_urls'].apply(url_separate)\n",
    "#movie title separation\n",
    "movies_df['movie_name'] = movies_df['movies_urls'].apply(title_separate)\n",
    "movies_df.head()"
   ]
  },
  {
   "cell_type": "code",
   "execution_count": 152,
   "metadata": {},
   "outputs": [],
   "source": [
    "def movie_page_get(url):\n",
    "    '''\n",
    "    method to navigate movie page and grab song urls\n",
    "    '''\n",
    "    try:\n",
    "        req = requests.get(url).text\n",
    "        soup = BeautifulSoup(req, \"lxml\")\n",
    "        song_area = soup.find(\"div\",attrs={\"class\":\"entry-content\"})\n",
    "        required_links = song_area.find_all(\"a\",attrs = {\"rel\":\"nofollow\"})\n",
    "        results = [url_separate(str(i)) for i in required_links]\n",
    "        return results\n",
    "    except Exception as e:\n",
    "        pass\n",
    "    "
   ]
  },
  {
   "cell_type": "code",
   "execution_count": 160,
   "metadata": {},
   "outputs": [],
   "source": [
    "#this method will extract songname from song url\n",
    "def get_song_name(song_url):\n",
    "    '''method to get song_name from song url'''\n",
    "    try:\n",
    "        song_name = song_url.split('/')[-1]\n",
    "        return song_name\n",
    "    except Exception as e:\n",
    "        pass"
   ]
  },
  {
   "cell_type": "code",
   "execution_count": 154,
   "metadata": {},
   "outputs": [],
   "source": [
    "def song_download(song_urls):\n",
    "    '''method to download song '''\n",
    "    try:\n",
    "        for i in song_urls:\n",
    "            download = requests.get(i)\n",
    "            file_name = get_song_name(i)\n",
    "            #print(download.headers)\n",
    "            #filename = getFilename_fromCd(download.headers.get('content-disposition'))\n",
    "            if download.status_code == 200:\n",
    "                with open('songs/'+file_name, 'wb') as f:\n",
    "                    f.write(download.content)\n",
    "            else:\n",
    "                print(f\"Download Failed For File {file_name}\")\n",
    "    except Exception as e:\n",
    "        pass"
   ]
  },
  {
   "cell_type": "code",
   "execution_count": 155,
   "metadata": {},
   "outputs": [
    {
     "data": {
      "text/html": [
       "<div>\n",
       "<style scoped>\n",
       "    .dataframe tbody tr th:only-of-type {\n",
       "        vertical-align: middle;\n",
       "    }\n",
       "\n",
       "    .dataframe tbody tr th {\n",
       "        vertical-align: top;\n",
       "    }\n",
       "\n",
       "    .dataframe thead th {\n",
       "        text-align: right;\n",
       "    }\n",
       "</style>\n",
       "<table border=\"1\" class=\"dataframe\">\n",
       "  <thead>\n",
       "    <tr style=\"text-align: right;\">\n",
       "      <th></th>\n",
       "      <th>movies_urls</th>\n",
       "      <th>url_links</th>\n",
       "      <th>movie_name</th>\n",
       "      <th>song_urls</th>\n",
       "    </tr>\n",
       "  </thead>\n",
       "  <tbody>\n",
       "    <tr>\n",
       "      <th>0</th>\n",
       "      <td>&lt;a href=\"https://sensongsmp3.tv/telugump3s19/\"...</td>\n",
       "      <td>https://sensongsmp3.tv/telugump3s19/</td>\n",
       "      <td>None</td>\n",
       "      <td>[https://sensongsmp3.la]</td>\n",
       "    </tr>\n",
       "    <tr>\n",
       "      <th>1</th>\n",
       "      <td>&lt;a href=\"https://sensongsmp3.tv/bheemla-nayak-...</td>\n",
       "      <td>https://sensongsmp3.tv/bheemla-nayak-2022-song...</td>\n",
       "      <td>Bheemla Nayak (2022)</td>\n",
       "      <td>[https://mp3teluguwap.net/mp3/2021/Bheemla%20N...</td>\n",
       "    </tr>\n",
       "    <tr>\n",
       "      <th>2</th>\n",
       "      <td>&lt;a href=\"https://sensongsmp3.tv/vakeel-saab-so...</td>\n",
       "      <td>https://sensongsmp3.tv/vakeel-saab-songs-downl...</td>\n",
       "      <td>Vakeel Saab (2021)</td>\n",
       "      <td>[https://mp3teluguwap.net/mp3/2021/Vakeel%20Sa...</td>\n",
       "    </tr>\n",
       "    <tr>\n",
       "      <th>3</th>\n",
       "      <td>&lt;a href=\"https://sensongsmp3.tv/hari-hara-veer...</td>\n",
       "      <td>https://sensongsmp3.tv/hari-hara-veera-mallu-2...</td>\n",
       "      <td>Hari Hara Veera Mallu (2022)</td>\n",
       "      <td>[https://mp3teluguwap.net/Teaser/Hari%20Hara%2...</td>\n",
       "    </tr>\n",
       "    <tr>\n",
       "      <th>4</th>\n",
       "      <td>&lt;a href=\"https://sensongsmp3.tv/pada-pada-song...</td>\n",
       "      <td>https://sensongsmp3.tv/pada-pada-song/</td>\n",
       "      <td>Pada Pada Song</td>\n",
       "      <td>[https://mp3teluguwap.net/mp3/2018/Janasena/Pa...</td>\n",
       "    </tr>\n",
       "  </tbody>\n",
       "</table>\n",
       "</div>"
      ],
      "text/plain": [
       "                                         movies_urls  \\\n",
       "0  <a href=\"https://sensongsmp3.tv/telugump3s19/\"...   \n",
       "1  <a href=\"https://sensongsmp3.tv/bheemla-nayak-...   \n",
       "2  <a href=\"https://sensongsmp3.tv/vakeel-saab-so...   \n",
       "3  <a href=\"https://sensongsmp3.tv/hari-hara-veer...   \n",
       "4  <a href=\"https://sensongsmp3.tv/pada-pada-song...   \n",
       "\n",
       "                                           url_links  \\\n",
       "0               https://sensongsmp3.tv/telugump3s19/   \n",
       "1  https://sensongsmp3.tv/bheemla-nayak-2022-song...   \n",
       "2  https://sensongsmp3.tv/vakeel-saab-songs-downl...   \n",
       "3  https://sensongsmp3.tv/hari-hara-veera-mallu-2...   \n",
       "4             https://sensongsmp3.tv/pada-pada-song/   \n",
       "\n",
       "                     movie_name  \\\n",
       "0                          None   \n",
       "1          Bheemla Nayak (2022)   \n",
       "2            Vakeel Saab (2021)   \n",
       "3  Hari Hara Veera Mallu (2022)   \n",
       "4                Pada Pada Song   \n",
       "\n",
       "                                           song_urls  \n",
       "0                           [https://sensongsmp3.la]  \n",
       "1  [https://mp3teluguwap.net/mp3/2021/Bheemla%20N...  \n",
       "2  [https://mp3teluguwap.net/mp3/2021/Vakeel%20Sa...  \n",
       "3  [https://mp3teluguwap.net/Teaser/Hari%20Hara%2...  \n",
       "4  [https://mp3teluguwap.net/mp3/2018/Janasena/Pa...  "
      ]
     },
     "execution_count": 155,
     "metadata": {},
     "output_type": "execute_result"
    }
   ],
   "source": [
    "movies_df['song_urls'] = movies_df['url_links'].apply(song_page_get)\n",
    "movies_df.head()"
   ]
  },
  {
   "cell_type": "code",
   "execution_count": 156,
   "metadata": {},
   "outputs": [
    {
     "data": {
      "text/html": [
       "<div>\n",
       "<style scoped>\n",
       "    .dataframe tbody tr th:only-of-type {\n",
       "        vertical-align: middle;\n",
       "    }\n",
       "\n",
       "    .dataframe tbody tr th {\n",
       "        vertical-align: top;\n",
       "    }\n",
       "\n",
       "    .dataframe thead th {\n",
       "        text-align: right;\n",
       "    }\n",
       "</style>\n",
       "<table border=\"1\" class=\"dataframe\">\n",
       "  <thead>\n",
       "    <tr style=\"text-align: right;\">\n",
       "      <th></th>\n",
       "      <th>movies_urls</th>\n",
       "      <th>url_links</th>\n",
       "      <th>movie_name</th>\n",
       "      <th>song_urls</th>\n",
       "      <th>total_songs</th>\n",
       "    </tr>\n",
       "  </thead>\n",
       "  <tbody>\n",
       "    <tr>\n",
       "      <th>0</th>\n",
       "      <td>&lt;a href=\"https://sensongsmp3.tv/telugump3s19/\"...</td>\n",
       "      <td>https://sensongsmp3.tv/telugump3s19/</td>\n",
       "      <td>None</td>\n",
       "      <td>[https://sensongsmp3.la]</td>\n",
       "      <td>1</td>\n",
       "    </tr>\n",
       "    <tr>\n",
       "      <th>1</th>\n",
       "      <td>&lt;a href=\"https://sensongsmp3.tv/bheemla-nayak-...</td>\n",
       "      <td>https://sensongsmp3.tv/bheemla-nayak-2022-song...</td>\n",
       "      <td>Bheemla Nayak (2022)</td>\n",
       "      <td>[https://mp3teluguwap.net/mp3/2021/Bheemla%20N...</td>\n",
       "      <td>18</td>\n",
       "    </tr>\n",
       "    <tr>\n",
       "      <th>2</th>\n",
       "      <td>&lt;a href=\"https://sensongsmp3.tv/vakeel-saab-so...</td>\n",
       "      <td>https://sensongsmp3.tv/vakeel-saab-songs-downl...</td>\n",
       "      <td>Vakeel Saab (2021)</td>\n",
       "      <td>[https://mp3teluguwap.net/mp3/2021/Vakeel%20Sa...</td>\n",
       "      <td>10</td>\n",
       "    </tr>\n",
       "    <tr>\n",
       "      <th>3</th>\n",
       "      <td>&lt;a href=\"https://sensongsmp3.tv/hari-hara-veer...</td>\n",
       "      <td>https://sensongsmp3.tv/hari-hara-veera-mallu-2...</td>\n",
       "      <td>Hari Hara Veera Mallu (2022)</td>\n",
       "      <td>[https://mp3teluguwap.net/Teaser/Hari%20Hara%2...</td>\n",
       "      <td>2</td>\n",
       "    </tr>\n",
       "    <tr>\n",
       "      <th>4</th>\n",
       "      <td>&lt;a href=\"https://sensongsmp3.tv/pada-pada-song...</td>\n",
       "      <td>https://sensongsmp3.tv/pada-pada-song/</td>\n",
       "      <td>Pada Pada Song</td>\n",
       "      <td>[https://mp3teluguwap.net/mp3/2018/Janasena/Pa...</td>\n",
       "      <td>1</td>\n",
       "    </tr>\n",
       "  </tbody>\n",
       "</table>\n",
       "</div>"
      ],
      "text/plain": [
       "                                         movies_urls  \\\n",
       "0  <a href=\"https://sensongsmp3.tv/telugump3s19/\"...   \n",
       "1  <a href=\"https://sensongsmp3.tv/bheemla-nayak-...   \n",
       "2  <a href=\"https://sensongsmp3.tv/vakeel-saab-so...   \n",
       "3  <a href=\"https://sensongsmp3.tv/hari-hara-veer...   \n",
       "4  <a href=\"https://sensongsmp3.tv/pada-pada-song...   \n",
       "\n",
       "                                           url_links  \\\n",
       "0               https://sensongsmp3.tv/telugump3s19/   \n",
       "1  https://sensongsmp3.tv/bheemla-nayak-2022-song...   \n",
       "2  https://sensongsmp3.tv/vakeel-saab-songs-downl...   \n",
       "3  https://sensongsmp3.tv/hari-hara-veera-mallu-2...   \n",
       "4             https://sensongsmp3.tv/pada-pada-song/   \n",
       "\n",
       "                     movie_name  \\\n",
       "0                          None   \n",
       "1          Bheemla Nayak (2022)   \n",
       "2            Vakeel Saab (2021)   \n",
       "3  Hari Hara Veera Mallu (2022)   \n",
       "4                Pada Pada Song   \n",
       "\n",
       "                                           song_urls  total_songs  \n",
       "0                           [https://sensongsmp3.la]            1  \n",
       "1  [https://mp3teluguwap.net/mp3/2021/Bheemla%20N...           18  \n",
       "2  [https://mp3teluguwap.net/mp3/2021/Vakeel%20Sa...           10  \n",
       "3  [https://mp3teluguwap.net/Teaser/Hari%20Hara%2...            2  \n",
       "4  [https://mp3teluguwap.net/mp3/2018/Janasena/Pa...            1  "
      ]
     },
     "execution_count": 156,
     "metadata": {},
     "output_type": "execute_result"
    }
   ],
   "source": [
    "movies_df['total_songs'] = movies_df['song_urls'].apply(len)\n",
    "movies_df.head()"
   ]
  },
  {
   "cell_type": "code",
   "execution_count": 157,
   "metadata": {},
   "outputs": [
    {
     "data": {
      "text/plain": [
       "count    30.000000\n",
       "mean      6.133333\n",
       "std       3.683452\n",
       "min       0.000000\n",
       "25%       5.250000\n",
       "50%       6.000000\n",
       "75%       7.000000\n",
       "max      18.000000\n",
       "Name: total_songs, dtype: float64"
      ]
     },
     "execution_count": 157,
     "metadata": {},
     "output_type": "execute_result"
    }
   ],
   "source": [
    "movies_df['total_songs'].describe()"
   ]
  },
  {
   "cell_type": "code",
   "execution_count": null,
   "metadata": {},
   "outputs": [],
   "source": [
    "movies_df['song_urls'].apply(song_download)"
   ]
  },
  {
   "cell_type": "code",
   "execution_count": null,
   "metadata": {},
   "outputs": [],
   "source": []
  }
 ],
 "metadata": {
  "interpreter": {
   "hash": "b2b48c00da21f861d94b596cec208a61b2ef94566abc3c0bdcb8d9d589fe8aae"
  },
  "kernelspec": {
   "display_name": "Python 3.8.5 64-bit ('base': conda)",
   "name": "python3"
  },
  "language_info": {
   "codemirror_mode": {
    "name": "ipython",
    "version": 3
   },
   "file_extension": ".py",
   "mimetype": "text/x-python",
   "name": "python",
   "nbconvert_exporter": "python",
   "pygments_lexer": "ipython3",
   "version": "3.8.5"
  },
  "orig_nbformat": 4
 },
 "nbformat": 4,
 "nbformat_minor": 2
}
